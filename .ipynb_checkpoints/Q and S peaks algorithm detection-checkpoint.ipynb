{
 "cells": [
  {
   "cell_type": "code",
   "execution_count": 70,
   "metadata": {},
   "outputs": [],
   "source": [
    "from codes.python import load_database,ECG_denoising\n",
    "from codes.python import QRS_detector\n",
    "import numpy as np\n",
    "from scipy.signal import resample\n",
    "from scipy.signal import savgol_filter\n",
    "import operator\n",
    "from numpy import array\n",
    "import sys\n",
    "import csv\n",
    "import os\n",
    "import matplotlib.pyplot as plt\n",
    "import wfdb\n",
    "from wfdb import processing, plot\n",
    "from codes.python import heartbeat_segmentation as shs\n",
    "from sklearn.decomposition import PCA\n",
    "from sklearn import svm\n",
    "from sklearn.discriminant_analysis import LinearDiscriminantAnalysis\n",
    "import pandas as pd\n",
    "from codes.python import curve_smoothing "
   ]
  },
  {
   "cell_type": "code",
   "execution_count": 44,
   "metadata": {},
   "outputs": [
    {
     "name": "stdout",
     "output_type": "stream",
     "text": [
      "C:\\Users\\nimch681\\Documents\\git_projects\\ECGdataAnalysis/database/mitdb/100\n",
      "C:\\Users\\nimch681\\Documents\\git_projects\\ECGdataAnalysis/database/mitdb/csv/100.csv\n",
      "C:\\Users\\nimch681\\Documents\\git_projects\\ECGdataAnalysis/database/mitdb/csv/100.txt\n",
      "C:\\Users\\nimch681\\Documents\\git_projects\\ECGdataAnalysis/database/mitdb/p_t_wave/100pt.csv\n",
      "C:\\Users\\nimch681\\Documents\\git_projects\\ECGdataAnalysis/database/mitdb/101\n",
      "C:\\Users\\nimch681\\Documents\\git_projects\\ECGdataAnalysis/database/mitdb/csv/101.csv\n",
      "C:\\Users\\nimch681\\Documents\\git_projects\\ECGdataAnalysis/database/mitdb/csv/101.txt\n",
      "C:\\Users\\nimch681\\Documents\\git_projects\\ECGdataAnalysis/database/mitdb/p_t_wave/101pt.csv\n",
      "C:\\Users\\nimch681\\Documents\\git_projects\\ECGdataAnalysis/database/mitdb/102\n",
      "C:\\Users\\nimch681\\Documents\\git_projects\\ECGdataAnalysis/database/mitdb/csv/102.csv\n",
      "C:\\Users\\nimch681\\Documents\\git_projects\\ECGdataAnalysis/database/mitdb/csv/102.txt\n",
      "C:\\Users\\nimch681\\Documents\\git_projects\\ECGdataAnalysis/database/mitdb/p_t_wave/102pt.csv\n",
      "C:\\Users\\nimch681\\Documents\\git_projects\\ECGdataAnalysis/database/mitdb/103\n",
      "C:\\Users\\nimch681\\Documents\\git_projects\\ECGdataAnalysis/database/mitdb/csv/103.csv\n",
      "C:\\Users\\nimch681\\Documents\\git_projects\\ECGdataAnalysis/database/mitdb/csv/103.txt\n",
      "C:\\Users\\nimch681\\Documents\\git_projects\\ECGdataAnalysis/database/mitdb/p_t_wave/103pt.csv\n",
      "C:\\Users\\nimch681\\Documents\\git_projects\\ECGdataAnalysis/database/mitdb/104\n",
      "C:\\Users\\nimch681\\Documents\\git_projects\\ECGdataAnalysis/database/mitdb/csv/104.csv\n",
      "C:\\Users\\nimch681\\Documents\\git_projects\\ECGdataAnalysis/database/mitdb/csv/104.txt\n",
      "C:\\Users\\nimch681\\Documents\\git_projects\\ECGdataAnalysis/database/mitdb/p_t_wave/104pt.csv\n",
      "C:\\Users\\nimch681\\Documents\\git_projects\\ECGdataAnalysis/database/mitdb/105\n",
      "C:\\Users\\nimch681\\Documents\\git_projects\\ECGdataAnalysis/database/mitdb/csv/105.csv\n",
      "C:\\Users\\nimch681\\Documents\\git_projects\\ECGdataAnalysis/database/mitdb/csv/105.txt\n",
      "C:\\Users\\nimch681\\Documents\\git_projects\\ECGdataAnalysis/database/mitdb/p_t_wave/105pt.csv\n",
      "C:\\Users\\nimch681\\Documents\\git_projects\\ECGdataAnalysis/database/mitdb/106\n",
      "C:\\Users\\nimch681\\Documents\\git_projects\\ECGdataAnalysis/database/mitdb/csv/106.csv\n",
      "C:\\Users\\nimch681\\Documents\\git_projects\\ECGdataAnalysis/database/mitdb/csv/106.txt\n",
      "C:\\Users\\nimch681\\Documents\\git_projects\\ECGdataAnalysis/database/mitdb/p_t_wave/106pt.csv\n",
      "C:\\Users\\nimch681\\Documents\\git_projects\\ECGdataAnalysis/database/mitdb/107\n",
      "C:\\Users\\nimch681\\Documents\\git_projects\\ECGdataAnalysis/database/mitdb/csv/107.csv\n",
      "C:\\Users\\nimch681\\Documents\\git_projects\\ECGdataAnalysis/database/mitdb/csv/107.txt\n",
      "C:\\Users\\nimch681\\Documents\\git_projects\\ECGdataAnalysis/database/mitdb/p_t_wave/107pt.csv\n",
      "C:\\Users\\nimch681\\Documents\\git_projects\\ECGdataAnalysis/database/mitdb/108\n",
      "C:\\Users\\nimch681\\Documents\\git_projects\\ECGdataAnalysis/database/mitdb/csv/108.csv\n",
      "C:\\Users\\nimch681\\Documents\\git_projects\\ECGdataAnalysis/database/mitdb/csv/108.txt\n",
      "C:\\Users\\nimch681\\Documents\\git_projects\\ECGdataAnalysis/database/mitdb/p_t_wave/108pt.csv\n",
      "C:\\Users\\nimch681\\Documents\\git_projects\\ECGdataAnalysis/database/mitdb/109\n",
      "C:\\Users\\nimch681\\Documents\\git_projects\\ECGdataAnalysis/database/mitdb/csv/109.csv\n",
      "C:\\Users\\nimch681\\Documents\\git_projects\\ECGdataAnalysis/database/mitdb/csv/109.txt\n",
      "C:\\Users\\nimch681\\Documents\\git_projects\\ECGdataAnalysis/database/mitdb/p_t_wave/109pt.csv\n",
      "C:\\Users\\nimch681\\Documents\\git_projects\\ECGdataAnalysis/database/mitdb/111\n",
      "C:\\Users\\nimch681\\Documents\\git_projects\\ECGdataAnalysis/database/mitdb/csv/111.csv\n",
      "C:\\Users\\nimch681\\Documents\\git_projects\\ECGdataAnalysis/database/mitdb/csv/111.txt\n",
      "C:\\Users\\nimch681\\Documents\\git_projects\\ECGdataAnalysis/database/mitdb/p_t_wave/111pt.csv\n",
      "C:\\Users\\nimch681\\Documents\\git_projects\\ECGdataAnalysis/database/mitdb/112\n",
      "C:\\Users\\nimch681\\Documents\\git_projects\\ECGdataAnalysis/database/mitdb/csv/112.csv\n",
      "C:\\Users\\nimch681\\Documents\\git_projects\\ECGdataAnalysis/database/mitdb/csv/112.txt\n",
      "C:\\Users\\nimch681\\Documents\\git_projects\\ECGdataAnalysis/database/mitdb/p_t_wave/112pt.csv\n",
      "C:\\Users\\nimch681\\Documents\\git_projects\\ECGdataAnalysis/database/mitdb/113\n",
      "C:\\Users\\nimch681\\Documents\\git_projects\\ECGdataAnalysis/database/mitdb/csv/113.csv\n",
      "C:\\Users\\nimch681\\Documents\\git_projects\\ECGdataAnalysis/database/mitdb/csv/113.txt\n",
      "C:\\Users\\nimch681\\Documents\\git_projects\\ECGdataAnalysis/database/mitdb/p_t_wave/113pt.csv\n",
      "C:\\Users\\nimch681\\Documents\\git_projects\\ECGdataAnalysis/database/mitdb/114\n",
      "C:\\Users\\nimch681\\Documents\\git_projects\\ECGdataAnalysis/database/mitdb/csv/114.csv\n",
      "C:\\Users\\nimch681\\Documents\\git_projects\\ECGdataAnalysis/database/mitdb/csv/114.txt\n",
      "C:\\Users\\nimch681\\Documents\\git_projects\\ECGdataAnalysis/database/mitdb/p_t_wave/114pt.csv\n",
      "C:\\Users\\nimch681\\Documents\\git_projects\\ECGdataAnalysis/database/mitdb/115\n",
      "C:\\Users\\nimch681\\Documents\\git_projects\\ECGdataAnalysis/database/mitdb/csv/115.csv\n",
      "C:\\Users\\nimch681\\Documents\\git_projects\\ECGdataAnalysis/database/mitdb/csv/115.txt\n",
      "C:\\Users\\nimch681\\Documents\\git_projects\\ECGdataAnalysis/database/mitdb/p_t_wave/115pt.csv\n",
      "C:\\Users\\nimch681\\Documents\\git_projects\\ECGdataAnalysis/database/mitdb/116\n",
      "C:\\Users\\nimch681\\Documents\\git_projects\\ECGdataAnalysis/database/mitdb/csv/116.csv\n",
      "C:\\Users\\nimch681\\Documents\\git_projects\\ECGdataAnalysis/database/mitdb/csv/116.txt\n",
      "C:\\Users\\nimch681\\Documents\\git_projects\\ECGdataAnalysis/database/mitdb/p_t_wave/116pt.csv\n",
      "C:\\Users\\nimch681\\Documents\\git_projects\\ECGdataAnalysis/database/mitdb/117\n",
      "C:\\Users\\nimch681\\Documents\\git_projects\\ECGdataAnalysis/database/mitdb/csv/117.csv\n",
      "C:\\Users\\nimch681\\Documents\\git_projects\\ECGdataAnalysis/database/mitdb/csv/117.txt\n",
      "C:\\Users\\nimch681\\Documents\\git_projects\\ECGdataAnalysis/database/mitdb/p_t_wave/117pt.csv\n",
      "C:\\Users\\nimch681\\Documents\\git_projects\\ECGdataAnalysis/database/mitdb/118\n",
      "C:\\Users\\nimch681\\Documents\\git_projects\\ECGdataAnalysis/database/mitdb/csv/118.csv\n",
      "C:\\Users\\nimch681\\Documents\\git_projects\\ECGdataAnalysis/database/mitdb/csv/118.txt\n",
      "C:\\Users\\nimch681\\Documents\\git_projects\\ECGdataAnalysis/database/mitdb/p_t_wave/118pt.csv\n",
      "C:\\Users\\nimch681\\Documents\\git_projects\\ECGdataAnalysis/database/mitdb/119\n",
      "C:\\Users\\nimch681\\Documents\\git_projects\\ECGdataAnalysis/database/mitdb/csv/119.csv\n",
      "C:\\Users\\nimch681\\Documents\\git_projects\\ECGdataAnalysis/database/mitdb/csv/119.txt\n",
      "C:\\Users\\nimch681\\Documents\\git_projects\\ECGdataAnalysis/database/mitdb/p_t_wave/119pt.csv\n",
      "C:\\Users\\nimch681\\Documents\\git_projects\\ECGdataAnalysis/database/mitdb/121\n",
      "C:\\Users\\nimch681\\Documents\\git_projects\\ECGdataAnalysis/database/mitdb/csv/121.csv\n",
      "C:\\Users\\nimch681\\Documents\\git_projects\\ECGdataAnalysis/database/mitdb/csv/121.txt\n",
      "C:\\Users\\nimch681\\Documents\\git_projects\\ECGdataAnalysis/database/mitdb/p_t_wave/121pt.csv\n",
      "C:\\Users\\nimch681\\Documents\\git_projects\\ECGdataAnalysis/database/mitdb/122\n",
      "C:\\Users\\nimch681\\Documents\\git_projects\\ECGdataAnalysis/database/mitdb/csv/122.csv\n",
      "C:\\Users\\nimch681\\Documents\\git_projects\\ECGdataAnalysis/database/mitdb/csv/122.txt\n",
      "C:\\Users\\nimch681\\Documents\\git_projects\\ECGdataAnalysis/database/mitdb/p_t_wave/122pt.csv\n",
      "C:\\Users\\nimch681\\Documents\\git_projects\\ECGdataAnalysis/database/mitdb/123\n",
      "C:\\Users\\nimch681\\Documents\\git_projects\\ECGdataAnalysis/database/mitdb/csv/123.csv\n",
      "C:\\Users\\nimch681\\Documents\\git_projects\\ECGdataAnalysis/database/mitdb/csv/123.txt\n",
      "C:\\Users\\nimch681\\Documents\\git_projects\\ECGdataAnalysis/database/mitdb/p_t_wave/123pt.csv\n",
      "C:\\Users\\nimch681\\Documents\\git_projects\\ECGdataAnalysis/database/mitdb/124\n",
      "C:\\Users\\nimch681\\Documents\\git_projects\\ECGdataAnalysis/database/mitdb/csv/124.csv\n",
      "C:\\Users\\nimch681\\Documents\\git_projects\\ECGdataAnalysis/database/mitdb/csv/124.txt\n",
      "C:\\Users\\nimch681\\Documents\\git_projects\\ECGdataAnalysis/database/mitdb/p_t_wave/124pt.csv\n",
      "C:\\Users\\nimch681\\Documents\\git_projects\\ECGdataAnalysis/database/mitdb/200\n",
      "C:\\Users\\nimch681\\Documents\\git_projects\\ECGdataAnalysis/database/mitdb/csv/200.csv\n",
      "C:\\Users\\nimch681\\Documents\\git_projects\\ECGdataAnalysis/database/mitdb/csv/200.txt\n",
      "C:\\Users\\nimch681\\Documents\\git_projects\\ECGdataAnalysis/database/mitdb/p_t_wave/200pt.csv\n",
      "C:\\Users\\nimch681\\Documents\\git_projects\\ECGdataAnalysis/database/mitdb/201\n",
      "C:\\Users\\nimch681\\Documents\\git_projects\\ECGdataAnalysis/database/mitdb/csv/201.csv\n"
     ]
    },
    {
     "name": "stdout",
     "output_type": "stream",
     "text": [
      "C:\\Users\\nimch681\\Documents\\git_projects\\ECGdataAnalysis/database/mitdb/csv/201.txt\n",
      "C:\\Users\\nimch681\\Documents\\git_projects\\ECGdataAnalysis/database/mitdb/p_t_wave/201pt.csv\n",
      "C:\\Users\\nimch681\\Documents\\git_projects\\ECGdataAnalysis/database/mitdb/202\n",
      "C:\\Users\\nimch681\\Documents\\git_projects\\ECGdataAnalysis/database/mitdb/csv/202.csv\n",
      "C:\\Users\\nimch681\\Documents\\git_projects\\ECGdataAnalysis/database/mitdb/csv/202.txt\n",
      "C:\\Users\\nimch681\\Documents\\git_projects\\ECGdataAnalysis/database/mitdb/p_t_wave/202pt.csv\n",
      "C:\\Users\\nimch681\\Documents\\git_projects\\ECGdataAnalysis/database/mitdb/203\n",
      "C:\\Users\\nimch681\\Documents\\git_projects\\ECGdataAnalysis/database/mitdb/csv/203.csv\n",
      "C:\\Users\\nimch681\\Documents\\git_projects\\ECGdataAnalysis/database/mitdb/csv/203.txt\n",
      "C:\\Users\\nimch681\\Documents\\git_projects\\ECGdataAnalysis/database/mitdb/p_t_wave/203pt.csv\n",
      "C:\\Users\\nimch681\\Documents\\git_projects\\ECGdataAnalysis/database/mitdb/205\n",
      "C:\\Users\\nimch681\\Documents\\git_projects\\ECGdataAnalysis/database/mitdb/csv/205.csv\n",
      "C:\\Users\\nimch681\\Documents\\git_projects\\ECGdataAnalysis/database/mitdb/csv/205.txt\n",
      "C:\\Users\\nimch681\\Documents\\git_projects\\ECGdataAnalysis/database/mitdb/p_t_wave/205pt.csv\n",
      "C:\\Users\\nimch681\\Documents\\git_projects\\ECGdataAnalysis/database/mitdb/207\n",
      "C:\\Users\\nimch681\\Documents\\git_projects\\ECGdataAnalysis/database/mitdb/csv/207.csv\n",
      "C:\\Users\\nimch681\\Documents\\git_projects\\ECGdataAnalysis/database/mitdb/csv/207.txt\n",
      "C:\\Users\\nimch681\\Documents\\git_projects\\ECGdataAnalysis/database/mitdb/p_t_wave/207pt.csv\n",
      "C:\\Users\\nimch681\\Documents\\git_projects\\ECGdataAnalysis/database/mitdb/208\n",
      "C:\\Users\\nimch681\\Documents\\git_projects\\ECGdataAnalysis/database/mitdb/csv/208.csv\n",
      "C:\\Users\\nimch681\\Documents\\git_projects\\ECGdataAnalysis/database/mitdb/csv/208.txt\n",
      "C:\\Users\\nimch681\\Documents\\git_projects\\ECGdataAnalysis/database/mitdb/p_t_wave/208pt.csv\n",
      "C:\\Users\\nimch681\\Documents\\git_projects\\ECGdataAnalysis/database/mitdb/209\n",
      "C:\\Users\\nimch681\\Documents\\git_projects\\ECGdataAnalysis/database/mitdb/csv/209.csv\n",
      "C:\\Users\\nimch681\\Documents\\git_projects\\ECGdataAnalysis/database/mitdb/csv/209.txt\n",
      "C:\\Users\\nimch681\\Documents\\git_projects\\ECGdataAnalysis/database/mitdb/p_t_wave/209pt.csv\n",
      "C:\\Users\\nimch681\\Documents\\git_projects\\ECGdataAnalysis/database/mitdb/210\n",
      "C:\\Users\\nimch681\\Documents\\git_projects\\ECGdataAnalysis/database/mitdb/csv/210.csv\n",
      "C:\\Users\\nimch681\\Documents\\git_projects\\ECGdataAnalysis/database/mitdb/csv/210.txt\n",
      "C:\\Users\\nimch681\\Documents\\git_projects\\ECGdataAnalysis/database/mitdb/p_t_wave/210pt.csv\n",
      "C:\\Users\\nimch681\\Documents\\git_projects\\ECGdataAnalysis/database/mitdb/212\n",
      "C:\\Users\\nimch681\\Documents\\git_projects\\ECGdataAnalysis/database/mitdb/csv/212.csv\n",
      "C:\\Users\\nimch681\\Documents\\git_projects\\ECGdataAnalysis/database/mitdb/csv/212.txt\n",
      "C:\\Users\\nimch681\\Documents\\git_projects\\ECGdataAnalysis/database/mitdb/p_t_wave/212pt.csv\n",
      "C:\\Users\\nimch681\\Documents\\git_projects\\ECGdataAnalysis/database/mitdb/213\n",
      "C:\\Users\\nimch681\\Documents\\git_projects\\ECGdataAnalysis/database/mitdb/csv/213.csv\n",
      "C:\\Users\\nimch681\\Documents\\git_projects\\ECGdataAnalysis/database/mitdb/csv/213.txt\n",
      "C:\\Users\\nimch681\\Documents\\git_projects\\ECGdataAnalysis/database/mitdb/p_t_wave/213pt.csv\n",
      "C:\\Users\\nimch681\\Documents\\git_projects\\ECGdataAnalysis/database/mitdb/214\n",
      "C:\\Users\\nimch681\\Documents\\git_projects\\ECGdataAnalysis/database/mitdb/csv/214.csv\n",
      "C:\\Users\\nimch681\\Documents\\git_projects\\ECGdataAnalysis/database/mitdb/csv/214.txt\n",
      "C:\\Users\\nimch681\\Documents\\git_projects\\ECGdataAnalysis/database/mitdb/p_t_wave/214pt.csv\n",
      "C:\\Users\\nimch681\\Documents\\git_projects\\ECGdataAnalysis/database/mitdb/215\n",
      "C:\\Users\\nimch681\\Documents\\git_projects\\ECGdataAnalysis/database/mitdb/csv/215.csv\n",
      "C:\\Users\\nimch681\\Documents\\git_projects\\ECGdataAnalysis/database/mitdb/csv/215.txt\n",
      "C:\\Users\\nimch681\\Documents\\git_projects\\ECGdataAnalysis/database/mitdb/p_t_wave/215pt.csv\n",
      "C:\\Users\\nimch681\\Documents\\git_projects\\ECGdataAnalysis/database/mitdb/217\n",
      "C:\\Users\\nimch681\\Documents\\git_projects\\ECGdataAnalysis/database/mitdb/csv/217.csv\n",
      "C:\\Users\\nimch681\\Documents\\git_projects\\ECGdataAnalysis/database/mitdb/csv/217.txt\n",
      "C:\\Users\\nimch681\\Documents\\git_projects\\ECGdataAnalysis/database/mitdb/p_t_wave/217pt.csv\n",
      "C:\\Users\\nimch681\\Documents\\git_projects\\ECGdataAnalysis/database/mitdb/219\n",
      "C:\\Users\\nimch681\\Documents\\git_projects\\ECGdataAnalysis/database/mitdb/csv/219.csv\n",
      "C:\\Users\\nimch681\\Documents\\git_projects\\ECGdataAnalysis/database/mitdb/csv/219.txt\n",
      "C:\\Users\\nimch681\\Documents\\git_projects\\ECGdataAnalysis/database/mitdb/p_t_wave/219pt.csv\n",
      "C:\\Users\\nimch681\\Documents\\git_projects\\ECGdataAnalysis/database/mitdb/220\n",
      "C:\\Users\\nimch681\\Documents\\git_projects\\ECGdataAnalysis/database/mitdb/csv/220.csv\n",
      "C:\\Users\\nimch681\\Documents\\git_projects\\ECGdataAnalysis/database/mitdb/csv/220.txt\n",
      "C:\\Users\\nimch681\\Documents\\git_projects\\ECGdataAnalysis/database/mitdb/p_t_wave/220pt.csv\n",
      "C:\\Users\\nimch681\\Documents\\git_projects\\ECGdataAnalysis/database/mitdb/221\n",
      "C:\\Users\\nimch681\\Documents\\git_projects\\ECGdataAnalysis/database/mitdb/csv/221.csv\n",
      "C:\\Users\\nimch681\\Documents\\git_projects\\ECGdataAnalysis/database/mitdb/csv/221.txt\n",
      "C:\\Users\\nimch681\\Documents\\git_projects\\ECGdataAnalysis/database/mitdb/p_t_wave/221pt.csv\n",
      "C:\\Users\\nimch681\\Documents\\git_projects\\ECGdataAnalysis/database/mitdb/222\n",
      "C:\\Users\\nimch681\\Documents\\git_projects\\ECGdataAnalysis/database/mitdb/csv/222.csv\n",
      "C:\\Users\\nimch681\\Documents\\git_projects\\ECGdataAnalysis/database/mitdb/csv/222.txt\n",
      "C:\\Users\\nimch681\\Documents\\git_projects\\ECGdataAnalysis/database/mitdb/p_t_wave/222pt.csv\n",
      "C:\\Users\\nimch681\\Documents\\git_projects\\ECGdataAnalysis/database/mitdb/223\n",
      "C:\\Users\\nimch681\\Documents\\git_projects\\ECGdataAnalysis/database/mitdb/csv/223.csv\n",
      "C:\\Users\\nimch681\\Documents\\git_projects\\ECGdataAnalysis/database/mitdb/csv/223.txt\n",
      "C:\\Users\\nimch681\\Documents\\git_projects\\ECGdataAnalysis/database/mitdb/p_t_wave/223pt.csv\n",
      "C:\\Users\\nimch681\\Documents\\git_projects\\ECGdataAnalysis/database/mitdb/228\n",
      "C:\\Users\\nimch681\\Documents\\git_projects\\ECGdataAnalysis/database/mitdb/csv/228.csv\n",
      "C:\\Users\\nimch681\\Documents\\git_projects\\ECGdataAnalysis/database/mitdb/csv/228.txt\n",
      "C:\\Users\\nimch681\\Documents\\git_projects\\ECGdataAnalysis/database/mitdb/p_t_wave/228pt.csv\n",
      "C:\\Users\\nimch681\\Documents\\git_projects\\ECGdataAnalysis/database/mitdb/230\n",
      "C:\\Users\\nimch681\\Documents\\git_projects\\ECGdataAnalysis/database/mitdb/csv/230.csv\n",
      "C:\\Users\\nimch681\\Documents\\git_projects\\ECGdataAnalysis/database/mitdb/csv/230.txt\n",
      "C:\\Users\\nimch681\\Documents\\git_projects\\ECGdataAnalysis/database/mitdb/p_t_wave/230pt.csv\n",
      "C:\\Users\\nimch681\\Documents\\git_projects\\ECGdataAnalysis/database/mitdb/231\n",
      "C:\\Users\\nimch681\\Documents\\git_projects\\ECGdataAnalysis/database/mitdb/csv/231.csv\n",
      "C:\\Users\\nimch681\\Documents\\git_projects\\ECGdataAnalysis/database/mitdb/csv/231.txt\n",
      "C:\\Users\\nimch681\\Documents\\git_projects\\ECGdataAnalysis/database/mitdb/p_t_wave/231pt.csv\n",
      "C:\\Users\\nimch681\\Documents\\git_projects\\ECGdataAnalysis/database/mitdb/232\n",
      "C:\\Users\\nimch681\\Documents\\git_projects\\ECGdataAnalysis/database/mitdb/csv/232.csv\n",
      "C:\\Users\\nimch681\\Documents\\git_projects\\ECGdataAnalysis/database/mitdb/csv/232.txt\n",
      "C:\\Users\\nimch681\\Documents\\git_projects\\ECGdataAnalysis/database/mitdb/p_t_wave/232pt.csv\n",
      "C:\\Users\\nimch681\\Documents\\git_projects\\ECGdataAnalysis/database/mitdb/233\n",
      "C:\\Users\\nimch681\\Documents\\git_projects\\ECGdataAnalysis/database/mitdb/csv/233.csv\n",
      "C:\\Users\\nimch681\\Documents\\git_projects\\ECGdataAnalysis/database/mitdb/csv/233.txt\n",
      "C:\\Users\\nimch681\\Documents\\git_projects\\ECGdataAnalysis/database/mitdb/p_t_wave/233pt.csv\n",
      "C:\\Users\\nimch681\\Documents\\git_projects\\ECGdataAnalysis/database/mitdb/234\n",
      "C:\\Users\\nimch681\\Documents\\git_projects\\ECGdataAnalysis/database/mitdb/csv/234.csv\n",
      "C:\\Users\\nimch681\\Documents\\git_projects\\ECGdataAnalysis/database/mitdb/csv/234.txt\n",
      "C:\\Users\\nimch681\\Documents\\git_projects\\ECGdataAnalysis/database/mitdb/p_t_wave/234pt.csv\n",
      "Start segmenting records: 100\n",
      "Filtered MLII records from : 100\n",
      "start segmenting MLII.\n",
      "Finished segmenting MLII.\n",
      "Segmenting record 100 completes.\n",
      "Start segmenting records: 101\n",
      "Filtered MLII records from : 101\n",
      "start segmenting MLII.\n",
      "Finished segmenting MLII.\n",
      "Segmenting record 101 completes.\n",
      "Start segmenting records: 102\n"
     ]
    },
    {
     "name": "stdout",
     "output_type": "stream",
     "text": [
      "Filtered MLII records from : 102\n",
      "start segmenting MLII.\n",
      "Finished segmenting MLII.\n",
      "Segmenting record 102 completes.\n",
      "Start segmenting records: 103\n",
      "Filtered MLII records from : 103\n",
      "start segmenting MLII.\n",
      "Finished segmenting MLII.\n",
      "Segmenting record 103 completes.\n",
      "Start segmenting records: 104\n",
      "Filtered MLII records from : 104\n",
      "start segmenting MLII.\n",
      "Finished segmenting MLII.\n",
      "Segmenting record 104 completes.\n",
      "Start segmenting records: 105\n",
      "Filtered MLII records from : 105\n",
      "start segmenting MLII.\n",
      "Finished segmenting MLII.\n",
      "Segmenting record 105 completes.\n",
      "Start segmenting records: 106\n",
      "Filtered MLII records from : 106\n",
      "start segmenting MLII.\n",
      "Finished segmenting MLII.\n",
      "Segmenting record 106 completes.\n",
      "Start segmenting records: 107\n",
      "Filtered MLII records from : 107\n",
      "start segmenting MLII.\n",
      "Finished segmenting MLII.\n",
      "Segmenting record 107 completes.\n",
      "Start segmenting records: 108\n",
      "Filtered MLII records from : 108\n",
      "start segmenting MLII.\n",
      "Finished segmenting MLII.\n",
      "Segmenting record 108 completes.\n",
      "Start segmenting records: 109\n",
      "Filtered MLII records from : 109\n",
      "start segmenting MLII.\n",
      "Finished segmenting MLII.\n",
      "Segmenting record 109 completes.\n",
      "Start segmenting records: 111\n",
      "Filtered MLII records from : 111\n",
      "start segmenting MLII.\n",
      "Finished segmenting MLII.\n",
      "Segmenting record 111 completes.\n",
      "Start segmenting records: 112\n",
      "Filtered MLII records from : 112\n",
      "start segmenting MLII.\n",
      "Finished segmenting MLII.\n",
      "Segmenting record 112 completes.\n",
      "Start segmenting records: 113\n",
      "Filtered MLII records from : 113\n",
      "start segmenting MLII.\n",
      "Finished segmenting MLII.\n",
      "Segmenting record 113 completes.\n",
      "Start segmenting records: 114\n",
      "Filtered MLII records from : 114\n",
      "start segmenting MLII.\n",
      "Finished segmenting MLII.\n",
      "Segmenting record 114 completes.\n",
      "Start segmenting records: 115\n",
      "Filtered MLII records from : 115\n",
      "start segmenting MLII.\n",
      "Finished segmenting MLII.\n",
      "Segmenting record 115 completes.\n",
      "Start segmenting records: 116\n",
      "Filtered MLII records from : 116\n",
      "start segmenting MLII.\n",
      "Finished segmenting MLII.\n",
      "Segmenting record 116 completes.\n",
      "Start segmenting records: 117\n",
      "Filtered MLII records from : 117\n",
      "start segmenting MLII.\n",
      "Finished segmenting MLII.\n",
      "Segmenting record 117 completes.\n",
      "Start segmenting records: 118\n",
      "Filtered MLII records from : 118\n",
      "start segmenting MLII.\n",
      "Finished segmenting MLII.\n",
      "Segmenting record 118 completes.\n",
      "Start segmenting records: 119\n",
      "Filtered MLII records from : 119\n",
      "start segmenting MLII.\n",
      "Finished segmenting MLII.\n",
      "Segmenting record 119 completes.\n",
      "Start segmenting records: 121\n",
      "Filtered MLII records from : 121\n",
      "start segmenting MLII.\n",
      "Finished segmenting MLII.\n",
      "Segmenting record 121 completes.\n",
      "Start segmenting records: 122\n",
      "Filtered MLII records from : 122\n",
      "start segmenting MLII.\n",
      "Finished segmenting MLII.\n",
      "Segmenting record 122 completes.\n",
      "Start segmenting records: 123\n",
      "Filtered MLII records from : 123\n",
      "start segmenting MLII.\n",
      "Finished segmenting MLII.\n",
      "Segmenting record 123 completes.\n",
      "Start segmenting records: 124\n",
      "Filtered MLII records from : 124\n",
      "start segmenting MLII.\n",
      "Finished segmenting MLII.\n",
      "Segmenting record 124 completes.\n",
      "Start segmenting records: 200\n",
      "Filtered MLII records from : 200\n",
      "start segmenting MLII.\n",
      "Finished segmenting MLII.\n",
      "Segmenting record 200 completes.\n",
      "Start segmenting records: 201\n",
      "Filtered MLII records from : 201\n",
      "start segmenting MLII.\n",
      "Finished segmenting MLII.\n",
      "Segmenting record 201 completes.\n",
      "Start segmenting records: 202\n",
      "Filtered MLII records from : 202\n",
      "start segmenting MLII.\n",
      "Finished segmenting MLII.\n",
      "Segmenting record 202 completes.\n",
      "Start segmenting records: 203\n",
      "Filtered MLII records from : 203\n",
      "start segmenting MLII.\n",
      "Finished segmenting MLII.\n",
      "Segmenting record 203 completes.\n",
      "Start segmenting records: 205\n",
      "Filtered MLII records from : 205\n",
      "start segmenting MLII.\n",
      "Finished segmenting MLII.\n",
      "Segmenting record 205 completes.\n",
      "Start segmenting records: 207\n",
      "Filtered MLII records from : 207\n",
      "start segmenting MLII.\n",
      "Finished segmenting MLII.\n",
      "Segmenting record 207 completes.\n",
      "Start segmenting records: 208\n",
      "Filtered MLII records from : 208\n",
      "start segmenting MLII.\n",
      "Finished segmenting MLII.\n",
      "Segmenting record 208 completes.\n",
      "Start segmenting records: 209\n",
      "Filtered MLII records from : 209\n",
      "start segmenting MLII.\n",
      "Finished segmenting MLII.\n",
      "Segmenting record 209 completes.\n",
      "Start segmenting records: 210\n",
      "Filtered MLII records from : 210\n",
      "start segmenting MLII.\n",
      "Finished segmenting MLII.\n",
      "Segmenting record 210 completes.\n",
      "Start segmenting records: 212\n",
      "Filtered MLII records from : 212\n",
      "start segmenting MLII.\n",
      "Finished segmenting MLII.\n",
      "Segmenting record 212 completes.\n",
      "Start segmenting records: 213\n",
      "Filtered MLII records from : 213\n",
      "start segmenting MLII.\n",
      "Finished segmenting MLII.\n",
      "Segmenting record 213 completes.\n",
      "Start segmenting records: 214\n",
      "Filtered MLII records from : 214\n",
      "start segmenting MLII.\n",
      "Finished segmenting MLII.\n",
      "Segmenting record 214 completes.\n",
      "Start segmenting records: 215\n",
      "Filtered MLII records from : 215\n",
      "start segmenting MLII.\n",
      "Finished segmenting MLII.\n",
      "Segmenting record 215 completes.\n",
      "Start segmenting records: 217\n",
      "Filtered MLII records from : 217\n",
      "start segmenting MLII.\n",
      "Finished segmenting MLII.\n",
      "Segmenting record 217 completes.\n",
      "Start segmenting records: 219\n",
      "Filtered MLII records from : 219\n",
      "start segmenting MLII.\n",
      "Finished segmenting MLII.\n",
      "Segmenting record 219 completes.\n",
      "Start segmenting records: 220\n",
      "Filtered MLII records from : 220\n",
      "start segmenting MLII.\n",
      "Finished segmenting MLII.\n",
      "Segmenting record 220 completes.\n",
      "Start segmenting records: 221\n",
      "Filtered MLII records from : 221\n",
      "start segmenting MLII.\n",
      "Finished segmenting MLII.\n",
      "Segmenting record 221 completes.\n",
      "Start segmenting records: 222\n",
      "Filtered MLII records from : 222\n",
      "start segmenting MLII.\n",
      "Finished segmenting MLII.\n",
      "Segmenting record 222 completes.\n",
      "Start segmenting records: 223\n",
      "Filtered MLII records from : 223\n",
      "start segmenting MLII.\n",
      "Finished segmenting MLII.\n",
      "Segmenting record 223 completes.\n",
      "Start segmenting records: 228\n",
      "Filtered MLII records from : 228\n",
      "start segmenting MLII.\n",
      "Finished segmenting MLII.\n",
      "Segmenting record 228 completes.\n",
      "Start segmenting records: 230\n",
      "Filtered MLII records from : 230\n",
      "start segmenting MLII.\n",
      "Finished segmenting MLII.\n",
      "Segmenting record 230 completes.\n",
      "Start segmenting records: 231\n",
      "Filtered MLII records from : 231\n",
      "start segmenting MLII.\n",
      "Finished segmenting MLII.\n",
      "Segmenting record 231 completes.\n",
      "Start segmenting records: 232\n",
      "Filtered MLII records from : 232\n",
      "start segmenting MLII.\n",
      "Finished segmenting MLII.\n",
      "Segmenting record 232 completes.\n",
      "Start segmenting records: 233\n",
      "Filtered MLII records from : 233\n",
      "start segmenting MLII.\n",
      "Finished segmenting MLII.\n",
      "Segmenting record 233 completes.\n",
      "Start segmenting records: 234\n",
      "Filtered MLII records from : 234\n",
      "start segmenting MLII.\n",
      "Finished segmenting MLII.\n",
      "Segmenting record 234 completes.\n",
      "Segmenting beats complete\n"
     ]
    }
   ],
   "source": [
    "mitdb = load_database.load_mitdb()\n",
    "mitdb.segment_beats()\n"
   ]
  },
  {
   "cell_type": "code",
   "execution_count": 45,
   "metadata": {},
   "outputs": [],
   "source": [
    "def find_S_point(signal, R_peaks):\n",
    "        num_peak = len(R_peaks)\n",
    "        S_points = []   \n",
    "        for i in range(num_peak):\n",
    "                #print(i)\n",
    "                point = R_peaks[i]\n",
    "                if point+1 > len(signal):\n",
    "                        #print(\"here\")\n",
    "                        break\n",
    "                \n",
    "                while signal[point] >= signal[point + 1]:\n",
    "                        \n",
    "                        point += 1\n",
    "                        if point >= len(signal):\n",
    "                                #print(\"here\")\n",
    "                                break\n",
    "                S_points.append(point)\n",
    "                #print(point)\n",
    "                        \n",
    "        return np.asarray(S_points)\n",
    "\n",
    "\n",
    "\n",
    "\n"
   ]
  },
  {
   "cell_type": "code",
   "execution_count": 48,
   "metadata": {},
   "outputs": [
    {
     "name": "stdout",
     "output_type": "stream",
     "text": [
      "C:\\Users\\nimch681\\Documents\\git_projects\\ECGdataAnalysis/database/mitdb/123\n",
      "C:\\Users\\nimch681\\Documents\\git_projects\\ECGdataAnalysis/database/mitdb/csv/123.csv\n",
      "C:\\Users\\nimch681\\Documents\\git_projects\\ECGdataAnalysis/database/mitdb/csv/123.txt\n",
      "C:\\Users\\nimch681\\Documents\\git_projects\\ECGdataAnalysis/database/mitdb/p_t_wave/123pt.csv\n",
      "Start segmenting records: 123\n",
      "Filtered MLII records from : 123\n",
      "start segmenting MLII.\n",
      "Finished segmenting MLII.\n",
      "Segmenting record 123 completes.\n"
     ]
    },
    {
     "data": {
      "image/png": "[encoded data removed]",
      "text/plain": [
       "<Figure size 432x288 with 1 Axes>"
      ]
     },
     "metadata": {},
     "output_type": "display_data"
    }
   ],
   "source": [
    "mit123 = load_database.load_patient_record(\"mitdb\",\"123\")\n",
    "mit123.set_segmented_beats_r_pos(winL=100,winR=200)\n",
    "np100 = mit123.filtered_MLII\n",
    "\n",
    "r_peaks = np.asarray(shs.r_peak_detector(np100,mit123.annotations))\n",
    "len(np100)\n",
    "s_points = find_S_point(np100,r_peaks)\n",
    "s_points\n",
    "r_peaks\n",
    "wfdb.plot_items(signal=np100, ann_samp=[s_points])\n",
    "diffs = []\n",
    "\n",
    "r_peaks_values = []\n",
    "s_points_values = []\n",
    "\n"
   ]
  },
  {
   "cell_type": "code",
   "execution_count": 77,
   "metadata": {},
   "outputs": [
    {
     "data": {
      "image/png": "[encoded data removed]",
      "text/plain": [
       "<Figure size 432x288 with 1 Axes>"
      ]
     },
     "metadata": {},
     "output_type": "display_data"
    },
    {
     "data": {
      "image/png": "[encoded data removed]",
      "text/plain": [
       "<Figure size 432x288 with 1 Axes>"
      ]
     },
     "metadata": {},
     "output_type": "display_data"
    }
   ],
   "source": [
    "filtered_np100 = savgol_filter(np100,51,7)\n",
    "wfdb.plot_items(signal=filtered_np100[0:1000])\n",
    "wfdb.plot_items(signal=np100[0:1000])\n",
    "\n"
   ]
  },
  {
   "cell_type": "code",
   "execution_count": 84,
   "metadata": {},
   "outputs": [
    {
     "data": {
      "image/png": "[encoded data removed]",
      "text/plain": [
       "<Figure size 432x288 with 1 Axes>"
      ]
     },
     "metadata": {},
     "output_type": "display_data"
    }
   ],
   "source": [
    "r_peaks = np.asarray(shs.r_peak_detector(filtered_np100[0:10000],mit123.annotations))\n",
    "s_points = find_S_point(filtered_np100[0:10000],r_peaks)\n",
    "wfdb.plot_items(signal=filtered_np100[0:10000],ann_samp=[s_points])\n",
    "\n"
   ]
  },
  {
   "cell_type": "code",
   "execution_count": 72,
   "metadata": {},
   "outputs": [
    {
     "data": {
      "image/png": "[encoded data removed]",
      "text/plain": [
       "<Figure size 432x288 with 1 Axes>"
      ]
     },
     "metadata": {},
     "output_type": "display_data"
    }
   ],
   "source": [
    "\n",
    "def average(numbers):\n",
    "    return float(sum(numbers)) / len(numbers)\n",
    "\n",
    "for i in range(0,len(s_points)):\n",
    "        \n",
    "        diff=round(mit123.filtered_MLII[r_peaks[i]] - mit123.filtered_MLII[s_points[i]],2)\n",
    "        r_peaks_values.append(mit123.filtered_MLII[r_peaks[i]])\n",
    "        s_points_values.append(mit123.filtered_MLII[s_points[i]])\n",
    "        diffs.append(diff)\n",
    "\n",
    "\n",
    "x ,y  = np.unique(diffs, return_counts=True) # counting occurrence of each loan\n",
    "min(diffs)\n",
    "plt.scatter(x,y)\n",
    "plt.show()"
   ]
  },
  {
   "cell_type": "code",
   "execution_count": 103,
   "metadata": {},
   "outputs": [],
   "source": [
    "\n",
    "r_peaks_values = []\n",
    "s_points_values = []\n",
    "\n",
    "all_diffs = []\n",
    "for i in mitdb.patient_records:\n",
    "    \n",
    "    \n",
    "\n",
    "    diffs = []\n",
    "    #filtered_signal = savgol_filter(i.filtered_MLII,51,7)\n",
    "    filtered_signal = i.filtered_MLII\n",
    "    r_peaks = np.asarray(shs.r_peak_detector(filtered_signal,i.annotations))\n",
    "    \n",
    "    s_points = find_S_point(filtered_signal, r_peaks)\n",
    "\n",
    "    for j in range(0,len(s_points)):\n",
    "        diff=round(i.filtered_MLII[r_peaks[j]] - i.filtered_MLII[s_points[j]],2)\n",
    "        diffs.append(diff) \n",
    "    \n",
    "    all_diffs.extend(diffs)\n"
   ]
  },
  {
   "cell_type": "code",
   "execution_count": 104,
   "metadata": {
    "scrolled": true
   },
   "outputs": [
    {
     "data": {
      "text/plain": [
       "<matplotlib.collections.PathCollection at 0x14545b6e128>"
      ]
     },
     "execution_count": 104,
     "metadata": {},
     "output_type": "execute_result"
    },
    {
     "data": {
      "image/png": "[encoded data removed]",
      "text/plain": [
       "<Figure size 432x288 with 1 Axes>"
      ]
     },
     "metadata": {},
     "output_type": "display_data"
    }
   ],
   "source": [
    "x ,y  = np.unique(all_diffs, return_counts=True) # counting occurrence of each \n",
    "plt.scatter(x,y)"
   ]
  },
  {
   "cell_type": "code",
   "execution_count": 96,
   "metadata": {},
   "outputs": [
    {
     "data": {
      "text/plain": [
       "1.5810645009374196"
      ]
     },
     "execution_count": 96,
     "metadata": {},
     "output_type": "execute_result"
    }
   ],
   "source": [
    "average(all_diffs)"
   ]
  },
  {
   "cell_type": "code",
   "execution_count": 106,
   "metadata": {},
   "outputs": [
    {
     "data": {
      "text/plain": [
       "1135"
      ]
     },
     "execution_count": 106,
     "metadata": {},
     "output_type": "execute_result"
    }
   ],
   "source": [
    "max(y)"
   ]
  },
  {
   "cell_type": "code",
   "execution_count": 109,
   "metadata": {},
   "outputs": [
    {
     "data": {
      "text/plain": [
       "(array([0], dtype=int64),)"
      ]
     },
     "execution_count": 109,
     "metadata": {},
     "output_type": "execute_result"
    }
   ],
   "source": [
    "np.where(y==1135)"
   ]
  },
  {
   "cell_type": "code",
   "execution_count": 110,
   "metadata": {},
   "outputs": [
    {
     "data": {
      "text/plain": [
       "0.0"
      ]
     },
     "execution_count": 110,
     "metadata": {},
     "output_type": "execute_result"
    }
   ],
   "source": [
    "x[0]"
   ]
  },
  {
   "cell_type": "code",
   "execution_count": null,
   "metadata": {},
   "outputs": [],
   "source": []
  }
 ],
 "metadata": {
  "kernelspec": {
   "display_name": "Python 3",
   "language": "python",
   "name": "python3"
  },
  "language_info": {
   "codemirror_mode": {
    "name": "ipython",
    "version": 3
   },
   "file_extension": ".py",
   "mimetype": "text/x-python",
   "name": "python",
   "nbconvert_exporter": "python",
   "pygments_lexer": "ipython3",
   "version": "3.6.5"
  }
 },
 "nbformat": 4,
 "nbformat_minor": 2
}
