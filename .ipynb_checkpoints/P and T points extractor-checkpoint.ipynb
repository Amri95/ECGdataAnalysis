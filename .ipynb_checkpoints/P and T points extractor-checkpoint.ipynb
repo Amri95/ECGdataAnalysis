{
 "cells": [
  {
   "cell_type": "code",
   "execution_count": 1,
   "metadata": {},
   "outputs": [],
   "source": [
    "from codes.python import load_database,ECG_denoising\n",
    "from codes.python import QRS_detector\n",
    "import numpy as np\n",
    "from scipy.signal import resample\n",
    "from scipy.signal import savgol_filter\n",
    "import operator\n",
    "from numpy import array\n",
    "import sys\n",
    "import csv\n",
    "import os\n",
    "import matplotlib.pyplot as plt\n",
    "import wfdb\n",
    "from wfdb import processing, plot\n",
    "from codes.python import heartbeat_segmentation as shs\n",
    "from sklearn.decomposition import PCA\n",
    "from sklearn import svm\n",
    "from sklearn.discriminant_analysis import LinearDiscriminantAnalysis\n",
    "import pandas as pd\n",
    "from codes.python import curve_smoothing "
   ]
  },
  {
   "cell_type": "code",
   "execution_count": 2,
   "metadata": {},
   "outputs": [
    {
     "name": "stdout",
     "output_type": "stream",
     "text": [
      "C:\\Users\\nimch681\\Documents\\git_projects\\ECGdataAnalysis/database/mitdb/100\n",
      "C:\\Users\\nimch681\\Documents\\git_projects\\ECGdataAnalysis/database/mitdb/csv/100.csv\n",
      "C:\\Users\\nimch681\\Documents\\git_projects\\ECGdataAnalysis/database/mitdb/csv/100.txt\n",
      "C:\\Users\\nimch681\\Documents\\git_projects\\ECGdataAnalysis/database/mitdb/p_t_wave/100pt.csv\n",
      "Start segmenting records: 100\n",
      "Filtered MLII records from : 100\n",
      "start segmenting MLII.\n",
      "Finished segmenting MLII.\n",
      "Segmenting record 100 completes.\n"
     ]
    }
   ],
   "source": []
  },
  {
   "cell_type": "code",
   "execution_count": 2,
   "metadata": {},
   "outputs": [],
   "source": [
    "\n",
    "def is_class_MIT(classAnttd):\n",
    "    MITBIH_classes = ['N', 'L', 'R', 'e', 'j', 'A', 'a', 'J', 'S', 'V', 'E', 'F']#, 'P', '/', 'f', 'u']\n",
    "    if classAnttd in MITBIH_classes:\n",
    "        return True\n",
    "    else:\n",
    "        return False\n",
    "        \n",
    "\n",
    "def check_class_AAMI(classAnttd, class_AAMI):\n",
    "    AAMI_classes = []\n",
    "    AAMI_classes.append(['N', 'L', 'R'])                    # N\n",
    "    AAMI_classes.append(['A', 'a', 'J', 'S', 'e', 'j'])     # SVEB \n",
    "    AAMI_classes.append(['V', 'E'])                         # VEB\n",
    "    AAMI_classes.append(['F'])\n",
    "    for i in range(0,len(AAMI_classes)):\n",
    "\n",
    "        if classAnttd in AAMI_classes[i]:\n",
    "            class_AAMI = i      \n",
    "\n",
    "    return class_AAMI\n",
    "\n",
    "def segment(signal,pos,winL,winR,size_RR_max):\n",
    "    lst = list(signal[pos - size_RR_max : pos + size_RR_max])\n",
    "    \n",
    "    \n",
    "    if(signal[pos] < 0):\n",
    "        beat_pos = [abs(x) for x in lst]\n",
    "        beat_pos = enumerate(beat_pos)\n",
    "        index, value  = max(beat_pos, key=operator.itemgetter(1))\n",
    "        pos = (pos - size_RR_max) + index\n",
    "    \n",
    "    else:\n",
    "        beat_pos = enumerate(lst)\n",
    "        index, value  = max(beat_pos, key=operator.itemgetter(1))\n",
    "        pos = (pos - size_RR_max) + index\n",
    "\n",
    "    beat_poses = list(range(pos - winL, pos + winR))\n",
    "    beat_poses = [int(i) for i in beat_poses]\n",
    "    return beat_poses,pos\n",
    "\n",
    "def r_peak_and_annotation(signal,annotations, indexes, winL=180, winR=180,size_RR_max=5):\n",
    "    class_ID = []\n",
    "    \n",
    "    originalPoses = []\n",
    "   \n",
    "    R_poses = []\n",
    "    beat_class = []\n",
    "    class_AAMI = -1\n",
    "    \n",
    "    for a in annotations:\n",
    "    \n",
    "        aS = a.split()\n",
    "        pos = int(aS[1])\n",
    "\n",
    "       \n",
    "\n",
    "        if(len(signal) < len(indexes)):\n",
    "            break\n",
    "\n",
    "        if(indexes[len(indexes)-1] < pos):\n",
    "            break\n",
    "\n",
    "        if(indexes[0] > pos):\n",
    "            continue\n",
    "        \n",
    "        originalPos = int(aS[1])\n",
    "        classAnttd = str(aS[2])\n",
    "\n",
    "        if pos > size_RR_max and pos < (len(signal) - size_RR_max):\n",
    "            beat_poses,pos=segment(signal,pos,winL,winR, size_RR_max)\n",
    "        #time_beat = list(time[beat_poses[0] : beat_poses[len(beat_poses)-1]+1])\n",
    "            pos = pos - indexes[0]\n",
    "            if(pos > winL and pos < (len(indexes) - winR)):\n",
    "                \n",
    "                R_poses.append(pos)\n",
    "                class_AAMI = check_class_AAMI(classAnttd, class_AAMI)\n",
    "                class_ID.append(class_AAMI)\n",
    "                beat_class.append(classAnttd)\n",
    "                originalPos = originalPos-indexes[0]\n",
    "                originalPoses.append(originalPos)\n",
    "\n",
    "    return beat_class, class_ID, R_poses, originalPoses\n",
    "\n",
    "def segment_beat(signal,r_poses, winL=180, winR=180,size_RR_max=5):\n",
    "    beats = []\n",
    "    for pos in r_poses:\n",
    "        if pos > size_RR_max and pos < (len(signal) - size_RR_max ):\n",
    "            beat_poses=segment(signal,pos,winL,winR, size_RR_max)\n",
    "            beat = signal[pos - winL : pos + winR]\n",
    "            if(pos > winL and pos < (len(signal) - winR)):\n",
    "                beats.append(beat)\n",
    "                \n",
    "    return np.asarray(beats)\n",
    "\n",
    "def r_peak(signal,r_peak, winL=180, winR=180,size_RR_max=5):\n",
    "    \n",
    "    R_poses = []\n",
    "    class_AAMI = -1\n",
    "    for r in r_peak:\n",
    "        pos = r\n",
    "        if(pos > len(signal)):\n",
    "            break  \n",
    "        \n",
    "        if pos > size_RR_max and pos < (len(signal) - size_RR_max):\n",
    "            beat_poses,pos=segment(signal,pos,winL,winR, size_RR_max)\n",
    "            \n",
    "            if(pos > winL and pos < (len(signal) - winR)):\n",
    "               \n",
    "                R_poses.append(pos)\n",
    "                \n",
    "    return R_poses\n"
   ]
  },
  {
   "cell_type": "code",
   "execution_count": 3,
   "metadata": {},
   "outputs": [
    {
     "name": "stdout",
     "output_type": "stream",
     "text": [
      "C:\\Users\\nimch681\\Documents\\git_projects\\ECGdataAnalysis/database/mitdb/100\n",
      "C:\\Users\\nimch681\\Documents\\git_projects\\ECGdataAnalysis/database/mitdb/csv/100.csv\n",
      "C:\\Users\\nimch681\\Documents\\git_projects\\ECGdataAnalysis/database/mitdb/csv/100.txt\n",
      "C:\\Users\\nimch681\\Documents\\git_projects\\ECGdataAnalysis/database/mitdb/p_t_wave/100pt.csv\n",
      "Start segmenting records: 100\n",
      "Filtered MLII records from : 100\n",
      "start segmenting MLII.\n",
      "Finished segmenting MLII.\n",
      "Segmenting record 100 completes.\n"
     ]
    }
   ],
   "source": [
    "mit100 = load_database.load_patient_record(\"mitdb\",\"100\")\n",
    "mit100.set_segmented_beats_r_pos(winL=100,winR=200)\n",
    "\n"
   ]
  },
  {
   "cell_type": "code",
   "execution_count": 4,
   "metadata": {},
   "outputs": [],
   "source": [
    "beats = segment_beat(mit100.filtered_MLII, mit100.segmented_R_pos)"
   ]
  },
  {
   "cell_type": "code",
   "execution_count": 5,
   "metadata": {},
   "outputs": [
    {
     "data": {
      "text/plain": [
       "(2271, 360)"
      ]
     },
     "execution_count": 5,
     "metadata": {},
     "output_type": "execute_result"
    }
   ],
   "source": [
    "beats.shape"
   ]
  },
  {
   "cell_type": "code",
   "execution_count": 9,
   "metadata": {},
   "outputs": [],
   "source": [
    "beat = list(mit100.filtered_MLII[0 : 1000])"
   ]
  },
  {
   "cell_type": "code",
   "execution_count": 7,
   "metadata": {},
   "outputs": [],
   "source": [
    "beat = processing.find_peaks(beats[0])"
   ]
  },
  {
   "cell_type": "code",
   "execution_count": 10,
   "metadata": {},
   "outputs": [
    {
     "data": {
      "text/plain": [
       "(array([ 16,  36,  39,  42,  45,  59,  64,  72,  75,  78,  81,  85,  94,\n",
       "         95,  99, 103, 118, 127, 130, 139, 141, 148, 154, 156, 159, 169,\n",
       "        180, 189, 196, 206, 212, 217, 219, 227, 232, 233, 237, 240, 243,\n",
       "        247, 249, 254, 255, 277, 279, 282, 304, 307, 309, 312, 315, 319,\n",
       "        327, 349, 352, 354, 357], dtype=int64), array([], dtype=int32))"
      ]
     },
     "execution_count": 10,
     "metadata": {},
     "output_type": "execute_result"
    }
   ],
   "source": [
    "beat"
   ]
  },
  {
   "cell_type": "code",
   "execution_count": null,
   "metadata": {},
   "outputs": [],
   "source": []
  }
 ],
 "metadata": {
  "kernelspec": {
   "display_name": "Python 3",
   "language": "python",
   "name": "python3"
  },
  "language_info": {
   "codemirror_mode": {
    "name": "ipython",
    "version": 3
   },
   "file_extension": ".py",
   "mimetype": "text/x-python",
   "name": "python",
   "nbconvert_exporter": "python",
   "pygments_lexer": "ipython3",
   "version": "3.6.5"
  }
 },
 "nbformat": 4,
 "nbformat_minor": 2
}
